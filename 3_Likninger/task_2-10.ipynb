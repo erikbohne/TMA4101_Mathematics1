{
 "cells": [
  {
   "cell_type": "markdown",
   "metadata": {},
   "source": [
    "# Tasks for week 3 in Mathematics 1 TMA4101\n",
    "\n",
    "## Task 2\n",
    "Do Dotties experiment in Python: Solve $x=cosx$"
   ]
  },
  {
   "cell_type": "code",
   "execution_count": 25,
   "metadata": {},
   "outputs": [],
   "source": [
    "#imports used for all tasks\n",
    "import math as m"
   ]
  },
  {
   "cell_type": "code",
   "execution_count": 26,
   "metadata": {},
   "outputs": [
    {
     "name": "stdout",
     "output_type": "stream",
     "text": [
      "0.5403023058681398\n",
      "0.8575532158463933\n",
      "0.6542897904977792\n",
      "0.7934803587425655\n",
      "0.7013687736227566\n",
      "0.7639596829006542\n",
      "0.7221024250267077\n",
      "0.7504177617637605\n",
      "0.7314040424225098\n",
      "0.7442373549005569\n"
     ]
    }
   ],
   "source": [
    "\"\"\"\n",
    "Solve x=cos(x) with for-loop\n",
    "\"\"\"\n",
    "x = 1\n",
    "\n",
    "for i in range(10):\n",
    "    x = m.cos(x)\n",
    "    print(x)"
   ]
  },
  {
   "cell_type": "markdown",
   "metadata": {},
   "source": [
    "## Task 3\n",
    "Redo the Dottie experiment but count how many iteration is required to stabilize on $L = 0.739085133215161$"
   ]
  },
  {
   "cell_type": "code",
   "execution_count": 27,
   "metadata": {},
   "outputs": [
    {
     "name": "stdout",
     "output_type": "stream",
     "text": [
      "Iterations required: 57\n"
     ]
    }
   ],
   "source": [
    "\"\"\"\n",
    "Count iterations for solving x=cos(x) with for-loop\n",
    "\"\"\"\n",
    "L = 0.7390851332151607\n",
    "precision = 10\n",
    "x = 1\n",
    "\n",
    "for i in range(100):\n",
    "    if round(x, precision) == round(L, precision):\n",
    "        print(f\"Iterations required: {i}\")\n",
    "        break\n",
    "    x = m.cos(x)"
   ]
  },
  {
   "cell_type": "markdown",
   "metadata": {},
   "source": [
    "## Task 4: Solve the Equation Using the Dottie Method\n",
    "\n",
    "### Objective\n",
    "\n",
    "The equation $x \\ln(x) = 1$ can be rewritten in the form $x = g(x)$ in at least two different ways. Your task is to find these representations and use the Dottie method to find the solutions. \n",
    "\n",
    "### Criteria for Success\n",
    "\n",
    "1. **Find Representations**: Determine the two ways the equation $x \\ln(x) = 1$ can be written as $x = g(x)$.\n",
    "2. **Use Dottie Method**: Employ the Dottie method to find the roots of the equation.\n",
    "3. **Convergence Criteria**: Continue iterating until the maximal precision $t = 10^{-16}$ is reached.\n",
    "\n",
    "### Questions\n",
    "\n",
    "1. What are the two ways you can rewrite the equation $x \\ln(x) = 1$ as $x = g(x)$?\n",
    " - $x \\ln(x) = 1$ can be written as $x = 1 / \\ln(x)$ or $x = e^{1/x}$.\n",
    "\n",
    "2. How many iterations are needed for each method to reach the maximal precision $t = 10^{-16}$?\n"
   ]
  },
  {
   "cell_type": "code",
   "execution_count": 28,
   "metadata": {},
   "outputs": [
    {
     "name": "stdout",
     "output_type": "stream",
     "text": [
      "Iterations required: 63\n",
      "x = 1.7632228343518968\n"
     ]
    }
   ],
   "source": [
    "max_precision = 1e-16\n",
    "x = 1\n",
    "prev_x = None\n",
    "\n",
    "for i in range(1000):\n",
    "    if x != 0:\n",
    "        prev_x = x\n",
    "        x = m.exp(1/x)\n",
    "        if abs(x - prev_x) < max_precision:\n",
    "            print(f\"Iterations required: {i}\")\n",
    "            print(f\"x = {x}\")\n",
    "            break\n",
    "    else:\n",
    "        print(\"x = 0, division by zero\")\n",
    "        break"
   ]
  },
  {
   "cell_type": "markdown",
   "metadata": {},
   "source": [
    "## Task 5: Solve the Equation Using Newton's Method\n",
    "\n",
    "### Objective\n",
    "\n",
    "Solve the equation $x = \\cos(x)$ using Newton's Method and count the number of iterations as in Task 3. You may need to rewrite the equation slightly to apply the method effectively.\n",
    "\n",
    "### Initial Guess ($x_0$)\n",
    "\n",
    "The first element in the sequence, $x_0$, is known as the initial guess. All numerical solvers require such an initial guess to get started. Some numerical methods are more sensitive to the initial guess than others, and different numerical solvers behave quite differently.\n",
    " - Lets rewrite the equation as $x = x - (x - cosx)/(1 + sinx)$ and set $x_0 = 1$.\n"
   ]
  },
  {
   "cell_type": "code",
   "execution_count": 42,
   "metadata": {},
   "outputs": [
    {
     "name": "stdout",
     "output_type": "stream",
     "text": [
      "Iterations required: 5\n",
      "x = 0.7390851332151607\n"
     ]
    }
   ],
   "source": [
    "x = 1 # x_0 = 1\n",
    "L = 0.7390851332151607\n",
    "max_precision = 1e-16\n",
    "\n",
    "for i in range(1000):\n",
    "    if abs(x - L) < max_precision:\n",
    "        print(f\"Iterations required: {i}\")\n",
    "        print(f\"x = {x}\")\n",
    "        break\n",
    "    \n",
    "    x = x - (x - m.cos(x))/(1 + m.sin(x))"
   ]
  },
  {
   "cell_type": "markdown",
   "metadata": {},
   "source": [
    "## Task 6: Solve the Equation $x = \\cos(x)$ Using Both Newton's Method and Fixed-Point Iteration\n",
    "\n",
    "### Objective\n",
    "\n",
    "Solve the equation $x = \\cos(x)$ using both Newton's Method and Fixed-Point Iteration. Experiment with different initial guesses. \n",
    "\n",
    "### Questions\n",
    "\n",
    "1. What happens when $x_0 = 4$ or larger in each of the methods?\n"
   ]
  },
  {
   "cell_type": "code",
   "execution_count": 50,
   "metadata": {},
   "outputs": [
    {
     "name": "stdout",
     "output_type": "stream",
     "text": [
      "Initial value: 0\n",
      "    Iterations required for Dottie: 91\n",
      "    Iterations required for Newton: 5\n",
      "Initial value: 1\n",
      "    Iterations required for Dottie: 90\n",
      "    Iterations required for Newton: 4\n",
      "Initial value: 2\n",
      "    Iterations required for Dottie: 92\n",
      "    Iterations required for Newton: 4\n",
      "Initial value: 3\n",
      "    Iterations required for Dottie: 91\n",
      "    Iterations required for Newton: 7\n",
      "Initial value: 4\n",
      "    Iterations required for Dottie: 88\n",
      "    Iterations required for Newton: 44\n",
      "Initial value: 5\n",
      "    Iterations required for Dottie: 92\n",
      "    Iterations required for Newton: 23\n",
      "Initial value: 6\n",
      "    Iterations required for Dottie: 91\n",
      "    Iterations required for Newton: 10\n",
      "Initial value: 7\n",
      "    Iterations required for Dottie: 85\n",
      "    Iterations required for Newton: 27\n",
      "Initial value: 8\n",
      "    Iterations required for Dottie: 92\n",
      "    Iterations required for Newton: 37\n",
      "Initial value: 9\n",
      "    Iterations required for Dottie: 91\n",
      "    Iterations required for Newton: 6\n"
     ]
    }
   ],
   "source": [
    "L = 0.7390851332151607\n",
    "max_precision = 1e-16\n",
    "\n",
    "for x_0 in range(10):\n",
    "    x = x_0\n",
    "    y = x_0\n",
    "    print(f\"Initial value: {x_0}\")\n",
    "    for j in range(1000):\n",
    "        if abs(x - L) < max_precision:\n",
    "            print(f\"    Iterations required for Dottie: {j}\")\n",
    "            break\n",
    "        \n",
    "        x = m.cos(x)\n",
    "    \n",
    "    for j in range(1000):\n",
    "        if abs(y - L) < max_precision:\n",
    "            print(f\"    Iterations required for Newton: {j}\")\n",
    "            break\n",
    "        \n",
    "        y = y - (y - m.cos(y))/(1 + m.sin(y))"
   ]
  },
  {
   "cell_type": "markdown",
   "metadata": {},
   "source": [
    "## Task 7: Repeat for $x = \\ln(x)$\n",
    "\n",
    "### Objective\n",
    "\n",
    "Repeat the previous tasks for the equation $x = \\ln(x)$. Consider both Dottie's Method and Newton's Method to solve the equation and count the number of iterations required for each method with different initial guesses.\n"
   ]
  },
  {
   "cell_type": "code",
   "execution_count": 54,
   "metadata": {},
   "outputs": [
    {
     "name": "stdout",
     "output_type": "stream",
     "text": [
      "Initial value: 0\n",
      "    Iterations required for Dottie: 92\n",
      "    Iterations required for Newton: 6\n",
      "Initial value: 1\n",
      "    Iterations required for Dottie: 91\n",
      "    Iterations required for Newton: 5\n",
      "Initial value: 2\n",
      "    Iterations required for Dottie: 93\n",
      "    Iterations required for Newton: 5\n",
      "Initial value: 3\n",
      "    Iterations required for Dottie: 92\n",
      "    Iterations required for Newton: 8\n",
      "Initial value: 4\n",
      "    Iterations required for Dottie: 89\n",
      "    Iterations required for Newton: 45\n",
      "Initial value: 5\n",
      "    Iterations required for Dottie: 93\n",
      "    Iterations required for Newton: 24\n",
      "Initial value: 6\n",
      "    Iterations required for Dottie: 92\n",
      "    Iterations required for Newton: 11\n",
      "Initial value: 7\n",
      "    Iterations required for Dottie: 86\n",
      "    Iterations required for Newton: 28\n",
      "Initial value: 8\n",
      "    Iterations required for Dottie: 93\n",
      "    Iterations required for Newton: 38\n",
      "Initial value: 9\n",
      "    Iterations required for Dottie: 92\n",
      "    Iterations required for Newton: 7\n"
     ]
    }
   ],
   "source": [
    "max_precision = 1e-16\n",
    "prev_x = None\n",
    "prev_y = None\n",
    "\n",
    "for x_0 in range(10):\n",
    "    x = x_0\n",
    "    y = x_0\n",
    "    print(f\"Initial value: {x_0}\")\n",
    "    for j in range(1, 1000):\n",
    "        prev_x = x\n",
    "        x = m.cos(x)\n",
    "        \n",
    "        if abs(x - prev_x) < max_precision:\n",
    "            print(f\"    Iterations required for Dottie: {j}\")\n",
    "            break\n",
    "    \n",
    "    for j in range(1, 1000):\n",
    "        prev_y = y\n",
    "        y = y - (y - m.cos(y))/(1 + m.sin(y))\n",
    "        \n",
    "        if abs(y - prev_y) < max_precision:\n",
    "            print(f\"    Iterations required for Newton: {j}\")\n",
    "            break"
   ]
  },
  {
   "cell_type": "markdown",
   "metadata": {},
   "source": [
    "## Task 8: Find the Water Level in a Sewer Pipe\n",
    "\n",
    "### Objective\n",
    "\n",
    "Let $h$ be the water level in a sewer pipe with radius 1 m, and let $h = \\cos(\\theta)$. When the water fills 75% of the pipe's cross-section, the angle $\\theta$ solves the equation $2\\sin^2(\\theta) + \\pi - 4\\theta = 0$.\n",
    "\n",
    "### Questions\n",
    "\n",
    "1. Find the water level $h$ using Fixed-Point Iteration and Newton's Method.\n",
    " - Lets rewrite the equation as $\\theta = \\theta - \\frac{2sin2\\theta+\\pi-4\\theta}{4cos2\\theta-4}$ for Newton\n",
    " - Lets rewrite the equation as $\\theta = \\frac{2\\sin2(\\theta)+\\pi}{4}$ for Fixed-Point Iteration"
   ]
  },
  {
   "cell_type": "code",
   "execution_count": 68,
   "metadata": {},
   "outputs": [
    {
     "name": "stdout",
     "output_type": "stream",
     "text": [
      "\n",
      "            Dottie:\n",
      "                Iterations required: 56\n",
      "                Thetas: 1.1549407299729477\n",
      "                h = 0.40397m\n",
      "            \n",
      "\n",
      "            Newton:\n",
      "                Iterations required: 5\n",
      "                Thetas: 1.1549407300050285\n",
      "                h = 0.40397m\n",
      "            \n"
     ]
    }
   ],
   "source": [
    "x, y = 1, 1\n",
    "max_precision = 1e-10\n",
    "\n",
    "for i in range(1, 100):\n",
    "    prev_x = x\n",
    "    x = (2 * m.sin(2 * x) + (m.pi))/(4)\n",
    "    \n",
    "    if abs(x - prev_x) < max_precision:\n",
    "        print(\n",
    "            f\"\"\"\n",
    "            Dottie:\n",
    "                Iterations required: {i}\n",
    "                Thetas: {x}\n",
    "                h = {round(m.cos(x), 5)}m\n",
    "            \"\"\"\n",
    "        )\n",
    "        break\n",
    "    \n",
    "for i in range(1, 100):\n",
    "    prev_y = y\n",
    "    y = y - (2 * m.sin(2 * y) + (m.pi) - 4*y)/(4 * m.cos(2 * y) - 4)\n",
    "    \n",
    "    if abs(y - prev_y) < max_precision:\n",
    "        print(\n",
    "            f\"\"\"\n",
    "            Newton:\n",
    "                Iterations required: {i}\n",
    "                Thetas: {y}\n",
    "                h = {round(m.cos(y), 5)}m\n",
    "            \"\"\"\n",
    "        )\n",
    "        break\n",
    "    \n"
   ]
  },
  {
   "cell_type": "markdown",
   "metadata": {},
   "source": [
    "## Task 9: Find the Roots of the Equation\n",
    "\n",
    "### Objective\n",
    "\n",
    "The equation $x^3 + x^2 + x + 1 = 0$ has one real root and two complex roots. You can find these roots numerically, but you must inform Python that you intend to work with complex numbers by writing the initial guess as $1 + 0 * 1j$.\n",
    "\n",
    "### Questions\n",
    "\n",
    "1. Try to find all the roots using numerical methods.\n"
   ]
  },
  {
   "cell_type": "code",
   "execution_count": 111,
   "metadata": {},
   "outputs": [],
   "source": [
    "import cmath as cm\n",
    "\n",
    "# Define functions and initial values\n",
    "def f(x):\n",
    "    return x**3 + x**2 + x + 1\n",
    "\n",
    "def df(x):\n",
    "    return 3*x**2 + 2*x + 1\n",
    "\n",
    "# Initial guesses\n",
    "initial_guesses = [-1, 1, 0 + 1j, 0 - 1j]\n",
    "\n",
    "precision = 1e-16 # Precision of 16 decimal places (max for float64)\n"
   ]
  },
  {
   "cell_type": "code",
   "execution_count": 112,
   "metadata": {},
   "outputs": [
    {
     "name": "stdout",
     "output_type": "stream",
     "text": [
      "Initial guess: -1\n",
      "Root using Newton's Method: -1.0, found in 1 iterations\n",
      "Root using Fixed-point Method: -1.0, found in 1 iterations\n",
      "Initial guess: 1\n",
      "Root using Newton's Method: -1.0, found in 10 iterations\n",
      "Root using Fixed-point Method: -1.0, found in 2 iterations\n",
      "Initial guess: 1j\n",
      "Root using Newton's Method: 1j, found in 1 iterations\n",
      "Root using Fixed-point Method: 1j, found in 1 iterations\n",
      "Initial guess: -1j\n",
      "Root using Newton's Method: -1j, found in 1 iterations\n",
      "Root using Fixed-point Method: -1j, found in 1 iterations\n"
     ]
    }
   ],
   "source": [
    "\n",
    "for init_guess in initial_guesses:\n",
    "    print(f\"Initial guess: {init_guess}\")\n",
    "    x = init_guess\n",
    "    y = init_guess\n",
    "    # Iterate using Newton's method\n",
    "    for i in range(1000):\n",
    "        prev_x = x\n",
    "        x = x - f(x) / df(x)\n",
    "        if cm.isinf(x) or cm.isnan(x):\n",
    "            print(\"Diverged\")\n",
    "            break\n",
    "        if abs(x - prev_x) < precision:\n",
    "            print(f\"Root using Newton's Method: {x}, found in {i+1} iterations\")\n",
    "            break\n",
    "        \n",
    "    # Iterate using Fixed-point method\n",
    "    for i in range(1000):\n",
    "        prev_y = y\n",
    "        y = x - f(x)\n",
    "        if cm.isinf(y) or cm.isnan(y):\n",
    "            print(\"Diverged\")\n",
    "            break\n",
    "        if abs(y - prev_y) < precision:\n",
    "            print(f\"Root using Fixed-point Method: {y}, found in {i+1} iterations\")\n",
    "            break"
   ]
  },
  {
   "cell_type": "markdown",
   "metadata": {},
   "source": [
    "We find the roots $-1$, $j$ and $-j$."
   ]
  },
  {
   "cell_type": "markdown",
   "metadata": {},
   "source": [
    "## Task 10: Factorize the Polynomial $x^3 + x^2 - 3x - 3 = 0$"
   ]
  },
  {
   "cell_type": "code",
   "execution_count": 142,
   "metadata": {},
   "outputs": [],
   "source": [
    "# Define functions and initial values\n",
    "def f(x):\n",
    "    return x**3 + x**2 - 3*x - 3\n",
    "\n",
    "def df(x):\n",
    "    return 3*x**2 + 2*x - 3\n",
    "\n",
    "# Round the real and imaginary parts of a complex number to a given precision\n",
    "def round_complex(z, prec):\n",
    "    return complex(round(z.real, prec), round(z.imag, prec))\n",
    "\n",
    "# Initial guesses\n",
    "initial_guesses = [-1, 1, 1.5, -1.5, 1 + 1j, 1 - 1j, -1 + 1j, -1 - 1j]\n",
    "\n",
    "# Create a set to keep track of unique roots\n",
    "unique_roots_newton = set()\n",
    "unique_roots_fixed = set()\n",
    "\n",
    "precision = 1e-16 # Precision of 16 decimal places (max for float64)"
   ]
  },
  {
   "cell_type": "code",
   "execution_count": 143,
   "metadata": {},
   "outputs": [
    {
     "name": "stdout",
     "output_type": "stream",
     "text": [
      "Unique roots using Newton's Method: {(-1+0j)}\n",
      "Unique roots using Fixed-point Method: {(1.7320508076+0j), (-1+0j), (-1.7320508076+0j)}\n"
     ]
    }
   ],
   "source": [
    "for init_guess in initial_guesses:\n",
    "    x = init_guess\n",
    "    y = init_guess\n",
    "    \n",
    "    # Iterate using Newton's method\n",
    "    for i in range(100):\n",
    "        prev_x = x\n",
    "        x = x - f(x) / df(x)\n",
    "        if cm.isinf(x) or cm.isnan(x):\n",
    "            break\n",
    "        if abs(x - prev_x) < precision:\n",
    "            unique_roots_newton.add(round_complex(x, 10))\n",
    "            break\n",
    "    \n",
    "    # Iterate using Fixed-point method\n",
    "    for i in range(100):\n",
    "        prev_y = y\n",
    "        y = x - f(x)\n",
    "        if cm.isinf(y) or cm.isnan(y):\n",
    "            break\n",
    "        if abs(y - prev_y) < precision:\n",
    "            unique_roots_fixed.add(round_complex(y, 10))\n",
    "            break\n",
    "\n",
    "# Print the unique roots\n",
    "print(f\"Unique roots using Newton's Method: {unique_roots_newton}\")\n",
    "print(f\"Unique roots using Fixed-point Method: {unique_roots_fixed}\")"
   ]
  },
  {
   "cell_type": "markdown",
   "metadata": {},
   "source": [
    "We find the roots $-1$, $1.73205$ and $-1.73205$."
   ]
  },
  {
   "cell_type": "markdown",
   "metadata": {},
   "source": [
    "## Task 11: Find the Roots of Polynomials $ p $ and $ q $\n",
    "\n",
    "### Objective\n",
    "\n",
    "The polynomials $ p(x) = x^4 - 10x^3 + 35x^2 - 50x + 24 $ and $ q(x) = x^4 - 9x^3 + 27x^2 - 31x + 12 $ both have a root at $ x = 1 $. Your task is to use Newton's method to find these roots.\n",
    "\n",
    "### Initial Condition\n",
    "\n",
    "Start the iteration with an initial guess of $ x_0 = \\frac{1}{2} $.\n",
    "\n",
    "### Questions\n",
    "\n",
    "1. Note the number of iterations required to find the roots of $ p(x) $ and $ q(x) $ using Newton's method.\n"
   ]
  },
  {
   "cell_type": "code",
   "execution_count": 1,
   "metadata": {},
   "outputs": [],
   "source": [
    "# Define functions\n",
    "def p(x):\n",
    "    return x**3 - 9*x**2 + 26*x - 24\n",
    "\n",
    "def dp(x):\n",
    "    return 3*x**2 - 18*x + 26\n",
    "\n",
    "def q(x):\n",
    "    return x**3 - 8*x**2 + 19*x - 12\n",
    "\n",
    "def dq(x):\n",
    "    return 3*x**2 - 16*x + 19\n",
    "\n",
    "# Initial value\n",
    "x = 0.5"
   ]
  },
  {
   "cell_type": "markdown",
   "metadata": {},
   "source": [
    "Now, lets use Newtons method to find the roots of $p(x)$ and $q(x)$."
   ]
  },
  {
   "cell_type": "code",
   "execution_count": 6,
   "metadata": {},
   "outputs": [
    {
     "name": "stdout",
     "output_type": "stream",
     "text": [
      "Root for reduced p(x): 2.0, found in 8 iterations\n",
      "Root for reduced q(x): 1.0, found in 6 iterations\n"
     ]
    }
   ],
   "source": [
    "# Initial value\n",
    "x_p = 0.5  # Initial value for p(x)\n",
    "x_q = 0.5  # Initial value for q(x)\n",
    "precision = 1e-10  # Define your stopping criterion\n",
    "\n",
    "# Find roots for reduced_p(x)\n",
    "for i in range(1000):\n",
    "    prev_x = x_p\n",
    "    x_p = x_p - p(x_p) / dp(x_p)\n",
    "    if abs(x_p - prev_x) < precision:\n",
    "        print(f\"Root for reduced p(x): {round(x_p, 5)}, found in {i+1} iterations\")\n",
    "        break\n",
    "\n",
    "# Find roots for reduced_q(x)\n",
    "for i in range(1000):\n",
    "    prev_x = x_q\n",
    "    x_q = x_q - q(x_q) / dq(x_q)\n",
    "    if abs(x_q - prev_x) < precision:\n",
    "        print(f\"Root for reduced q(x): {round(x_q, 5)}, found in {i+1} iterations\")\n",
    "        break"
   ]
  }
 ],
 "metadata": {
  "kernelspec": {
   "display_name": "venv",
   "language": "python",
   "name": "python3"
  },
  "language_info": {
   "codemirror_mode": {
    "name": "ipython",
    "version": 3
   },
   "file_extension": ".py",
   "mimetype": "text/x-python",
   "name": "python",
   "nbconvert_exporter": "python",
   "pygments_lexer": "ipython3",
   "version": "3.10.9"
  },
  "orig_nbformat": 4
 },
 "nbformat": 4,
 "nbformat_minor": 2
}
