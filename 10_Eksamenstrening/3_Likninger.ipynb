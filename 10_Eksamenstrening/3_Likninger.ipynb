{
 "cells": [
  {
   "cell_type": "markdown",
   "metadata": {},
   "source": [
    "# Repetition of chapter 3 - Equations\n"
   ]
  },
  {
   "cell_type": "markdown",
   "metadata": {},
   "source": [
    "### Task 2\n",
    "> **Do** the Dottie experience."
   ]
  },
  {
   "cell_type": "code",
   "execution_count": 34,
   "metadata": {},
   "outputs": [
    {
     "name": "stdout",
     "output_type": "stream",
     "text": [
      "0.7390851332151607\n"
     ]
    }
   ],
   "source": [
    "# Task 2 - Dottie experience\n",
    "import random\n",
    "import numpy as np\n",
    "\n",
    "x = random.randint(1, 10)\n",
    "\n",
    "for _ in range(100):\n",
    "    x = np.cos(x)\n",
    "    \n",
    "print(x)"
   ]
  },
  {
   "cell_type": "markdown",
   "metadata": {},
   "source": [
    "## Task 3\n",
    "> **Calcualte** how many iterations are needed to get the Dottie number with an accuracy of $$ 𝐿 ≈ 0.739085133215161 $$"
   ]
  },
  {
   "cell_type": "code",
   "execution_count": 3,
   "metadata": {},
   "outputs": [
    {
     "name": "stdout",
     "output_type": "stream",
     "text": [
      "77\n"
     ]
    }
   ],
   "source": [
    "L = 0.739085133215161\n",
    "\n",
    "x = random.randint(1, 10)\n",
    "\n",
    "iterations = 0\n",
    "while True:\n",
    "\n",
    "    if abs(L - x) <= 1e-15:\n",
    "        break\n",
    "    \n",
    "    x = np.cos(x)\n",
    "    iterations += 1\n",
    "    \n",
    "print(iterations)"
   ]
  },
  {
   "cell_type": "markdown",
   "metadata": {},
   "source": [
    "## Task 4\n",
    "> **Use fixpoint iteration** to find $ xln(x) = 1 $"
   ]
  },
  {
   "cell_type": "code",
   "execution_count": 23,
   "metadata": {},
   "outputs": [
    {
     "name": "stdout",
     "output_type": "stream",
     "text": [
      "59\n"
     ]
    }
   ],
   "source": [
    "def g(x):\n",
    "    return np.exp(1/x)\n",
    "\n",
    "epsilon = 10e-16\n",
    "\n",
    "x = random.randint(1,3)\n",
    "\n",
    "for iteration in range(1000000):\n",
    "    \n",
    "    prev_x = x\n",
    "    x = g(x)\n",
    "    \n",
    "    if abs(x - prev_x) < epsilon:\n",
    "        break\n",
    "    \n",
    "print(iteration)"
   ]
  },
  {
   "cell_type": "markdown",
   "metadata": {},
   "source": [
    "## Task 5\n",
    "> **Solve** dottie with Newton's method.\n",
    "\n",
    "To use Newtons method we need to solve $ f(x) = 0 $ and $ f'(x) = 0 $. And $ x = cos(x) -> x - cos(x) = 0 $ and $ f'(x) = 1 + sin(x) = 0 $."
   ]
  },
  {
   "cell_type": "code",
   "execution_count": 67,
   "metadata": {},
   "outputs": [
    {
     "name": "stdout",
     "output_type": "stream",
     "text": [
      "Found L = 0.7390851332151607 in 8 iterations\n"
     ]
    }
   ],
   "source": [
    "def f(x):\n",
    "    return x - np.cos(x)\n",
    "\n",
    "def f_dot(x):\n",
    "    return 1 + np.sin(x)\n",
    "\n",
    "x = random.randint(1,3)\n",
    "prev_x = None\n",
    "\n",
    "for i in range(1, 1000):\n",
    "    \n",
    "    prev_x = x\n",
    "    x = x - f(x) / f_dot(x)\n",
    "    \n",
    "    if abs(x - prev_x) < epsilon:\n",
    "        break\n",
    "    \n",
    "print(f\"Found L = {x} in {i} iterations\")"
   ]
  },
  {
   "cell_type": "markdown",
   "metadata": {},
   "source": [
    "## Task 6\n",
    "> **What happens** if the initial guess is $ x_0 = 4 or higher $?"
   ]
  },
  {
   "cell_type": "code",
   "execution_count": 86,
   "metadata": {},
   "outputs": [
    {
     "name": "stdout",
     "output_type": "stream",
     "text": [
      "For x0 = 4:\n",
      "    Found L = 0.7390851332151607 in 45 iterations\n",
      "For x0 = 14:\n",
      "    Found L = 0.7390851332151607 in 26 iterations\n",
      "For x0 = 24:\n",
      "    Found L = 0.7390851332151607 in 12 iterations\n",
      "For x0 = 34:\n",
      "    Found L = 0.7390851332151607 in 20 iterations\n",
      "For x0 = 44:\n",
      "    Found L = 0.7390851332151607 in 6 iterations\n",
      "For x0 = 54:\n",
      "    Found L = 0.7390851332151607 in 42 iterations\n",
      "For x0 = 64:\n",
      "    Found L = 0.7390851332151607 in 8 iterations\n",
      "For x0 = 74:\n",
      "    Found L = 1.4925605488086818e+40 in 999 iterations\n",
      "For x0 = 84:\n",
      "    Found L = 0.7390851332151607 in 47 iterations\n",
      "For x0 = 94:\n",
      "    Found L = 0.7390851332151607 in 306 iterations\n"
     ]
    }
   ],
   "source": [
    "def f(x):\n",
    "    return x - np.cos(x)\n",
    "\n",
    "def f_dot(x):\n",
    "    return 1 + np.sin(x)\n",
    "\n",
    "for x in range(4, 100, 10):\n",
    "    prev_x = None\n",
    "\n",
    "    print(f\"For x0 = {x}:\")\n",
    "    for i in range(1, 1000):\n",
    "        \n",
    "        prev_x = x\n",
    "        x = x - f(x) / f_dot(x)\n",
    "        \n",
    "        if abs(x - prev_x) < epsilon:\n",
    "            break\n",
    "        \n",
    "    print(f\"    Found L = {x} in {i} iterations\")"
   ]
  },
  {
   "cell_type": "markdown",
   "metadata": {},
   "source": [
    "## Task 7\n",
    "> **Solve** $ x = lnx $ with Newton's method."
   ]
  },
  {
   "cell_type": "code",
   "execution_count": 138,
   "metadata": {},
   "outputs": [
    {
     "data": {
      "image/png": "[encoded data removed]",
      "text/plain": [
       "<Figure size 640x480 with 1 Axes>"
      ]
     },
     "metadata": {},
     "output_type": "display_data"
    }
   ],
   "source": [
    "import matplotlib.pyplot as plt\n",
    "\n",
    "def f(x):\n",
    "    return x\n",
    "def g(x):\n",
    "    return np.log(x)\n",
    "\n",
    "x = np.arange(0.1,10,0.1)\n",
    "\n",
    "plt.plot(x, f(x))\n",
    "plt.plot(x, g(x))\n",
    "plt.show()"
   ]
  },
  {
   "cell_type": "markdown",
   "metadata": {},
   "source": [
    "## Task 8\n",
    "> **Find** h."
   ]
  },
  {
   "cell_type": "code",
   "execution_count": 156,
   "metadata": {},
   "outputs": [
    {
     "name": "stdout",
     "output_type": "stream",
     "text": [
      "H = 0.40m\n"
     ]
    }
   ],
   "source": [
    "def f(theta):\n",
    "    return 2 * np.sin(2 * theta) + np.pi - 4*theta\n",
    "\n",
    "def f_dot(theta):\n",
    "    return 4 * np.cos(2 * theta) - 4\n",
    "\n",
    "theta = 1\n",
    "prev_theta = None\n",
    "\n",
    "for iteration in range(10000):\n",
    "    \n",
    "    prev_theta = 0\n",
    "    theta = theta - (f(theta) / f_dot(theta))\n",
    "    \n",
    "    if abs(theta - prev_theta) < 10-15:\n",
    "        break\n",
    "    \n",
    "print(f\"H = {np.cos(theta):.2f}m\")"
   ]
  },
  {
   "cell_type": "markdown",
   "metadata": {},
   "source": [
    "## Task 9\n",
    "> **$ 𝑥^3 + 𝑥^2 + 𝑥 + 1 = 0 $**, find its solutions."
   ]
  },
  {
   "cell_type": "code",
   "execution_count": 169,
   "metadata": {},
   "outputs": [],
   "source": [
    "import cmath as cm\n",
    "\n",
    "# Define functions and initial values\n",
    "def f(x):\n",
    "    return x**3 + x**2 + x + 1\n",
    "\n",
    "def df(x):\n",
    "    return 3*x**2 + 2*x + 1\n",
    "\n",
    "# Initial guesses\n",
    "initial_guesses = [-1, 1, 0 + 1j, 0 - 1j]\n",
    "\n",
    "precision = 1e-16 # Precision of 16 decimal places (max for float64)\n"
   ]
  },
  {
   "cell_type": "code",
   "execution_count": 170,
   "metadata": {},
   "outputs": [
    {
     "name": "stdout",
     "output_type": "stream",
     "text": [
      "Initial guess: -1\n",
      "Root using Newton's Method: -1.0, found in 1 iterations\n",
      "Root using Fixed-point Method: -1.0, found in 1 iterations\n",
      "Initial guess: 1\n",
      "Root using Newton's Method: -1.0, found in 10 iterations\n",
      "Root using Fixed-point Method: -1.0, found in 2 iterations\n",
      "Initial guess: 1j\n",
      "Root using Newton's Method: 1j, found in 1 iterations\n",
      "Root using Fixed-point Method: 1j, found in 1 iterations\n",
      "Initial guess: -1j\n",
      "Root using Newton's Method: -1j, found in 1 iterations\n",
      "Root using Fixed-point Method: -1j, found in 1 iterations\n"
     ]
    }
   ],
   "source": [
    "\n",
    "for init_guess in initial_guesses:\n",
    "    print(f\"Initial guess: {init_guess}\")\n",
    "    x = init_guess\n",
    "    y = init_guess\n",
    "    # Iterate using Newton's method\n",
    "    for i in range(1000):\n",
    "        prev_x = x\n",
    "        x = x - f(x) / df(x)\n",
    "        if cm.isinf(x) or cm.isnan(x):\n",
    "            print(\"Diverged\")\n",
    "            break\n",
    "        if abs(x - prev_x) < precision:\n",
    "            print(f\"Root using Newton's Method: {x}, found in {i+1} iterations\")\n",
    "            break\n",
    "        \n",
    "    # Iterate using Fixed-point method\n",
    "    for i in range(1000):\n",
    "        prev_y = y\n",
    "        y = x - f(x)\n",
    "        if cm.isinf(y) or cm.isnan(y):\n",
    "            print(\"Diverged\")\n",
    "            break\n",
    "        if abs(y - prev_y) < precision:\n",
    "            print(f\"Root using Fixed-point Method: {y}, found in {i+1} iterations\")\n",
    "            break"
   ]
  },
  {
   "cell_type": "markdown",
   "metadata": {},
   "source": [
    "## Task 10\n",
    "> **Find the roots** of $ x^3 + x^2 - 3x - 3 = 0 $."
   ]
  },
  {
   "cell_type": "code",
   "execution_count": 190,
   "metadata": {},
   "outputs": [
    {
     "name": "stdout",
     "output_type": "stream",
     "text": [
      "{1.73205, -1.0, -1.73205}\n"
     ]
    }
   ],
   "source": [
    "def f(x):\n",
    "    return x**3 + x**2 - 3*x - 3\n",
    "\n",
    "def f_dot(x):\n",
    "    return 3*x**2 + 2*x - 3\n",
    "\n",
    "xs = [n for n in range(-5, 6)]\n",
    "\n",
    "roots = set()\n",
    "\n",
    "for x in xs:\n",
    "    for iteration in range(100000):\n",
    "        prev_x = x\n",
    "        x = x - (f(x) / f_dot(x))\n",
    "        \n",
    "        if abs(x - prev_x) < 10e-15:\n",
    "            roots.add(round(x, 5))\n",
    "            break\n",
    "    \n",
    "print(roots)"
   ]
  },
  {
   "cell_type": "markdown",
   "metadata": {},
   "source": [
    "## Task 11\n",
    "> **Find the roots** of $ p(x) and q(x) $ with $ x0 = 1/2 $."
   ]
  },
  {
   "cell_type": "code",
   "execution_count": 191,
   "metadata": {},
   "outputs": [],
   "source": [
    "# Define functions \n",
    "def p(x):\n",
    "    return x**4 - 10*x**3 + 35*x**2 - 50*x + 24\n",
    "\n",
    "def p_dot(x):\n",
    "    return 4*x**3 - 30*x**2 + 70*x - 50\n",
    "\n",
    "def q(x):\n",
    "    return x**4 - 9*x**3 + 27*x**2 - 31*x + 12\n",
    "\n",
    "def q_dot(x):\n",
    "    return 4*x**3 - 27*x**2 + 54*x - 31"
   ]
  },
  {
   "cell_type": "code",
   "execution_count": 201,
   "metadata": {},
   "outputs": [
    {
     "name": "stdout",
     "output_type": "stream",
     "text": [
      "7\n",
      "1.0000000000000009\n",
      "25\n",
      "0.999999977918105\n"
     ]
    }
   ],
   "source": [
    "x = y = .5\n",
    "\n",
    "for iteration in range(10000):\n",
    "    \n",
    "    prev_x = x\n",
    "    x = x - (p(x) / p_dot(x))\n",
    "    \n",
    "    if abs(prev_x - x) < 1e-15:\n",
    "        break\n",
    "    \n",
    "print(iteration)\n",
    "    \n",
    "for iteration in range(10000):\n",
    "    \n",
    "    prev_y = y\n",
    "    y = y - (q(y) / q_dot(y))\n",
    "    \n",
    "    if abs(prev_y - y) < 10e-15:\n",
    "        break\n",
    "    \n",
    "print(x)\n",
    "print(iteration)\n",
    "print(y)"
   ]
  }
 ],
 "metadata": {
  "kernelspec": {
   "display_name": "venv",
   "language": "python",
   "name": "python3"
  },
  "language_info": {
   "codemirror_mode": {
    "name": "ipython",
    "version": 3
   },
   "file_extension": ".py",
   "mimetype": "text/x-python",
   "name": "python",
   "nbconvert_exporter": "python",
   "pygments_lexer": "ipython3",
   "version": "3.10.13"
  }
 },
 "nbformat": 4,
 "nbformat_minor": 2
}
